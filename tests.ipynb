{
 "cells": [
  {
   "cell_type": "code",
   "execution_count": 4,
   "metadata": {},
   "outputs": [],
   "source": [
    "import datetime\n",
    "\n",
    "from src.server import create_app\n",
    "from src.server.extensions import db\n",
    "from src.models.models import Streams, Tracks, Albums, Artists, Genres\n",
    "\n",
    "import pandas as pd\n",
    "import matplotlib.pyplot as plt\n",
    "\n",
    "app = create_app()\n"
   ]
  },
  {
   "cell_type": "code",
   "execution_count": 10,
   "metadata": {},
   "outputs": [
    {
     "name": "stdout",
     "output_type": "stream",
     "text": [
      "<Albums 1>\n"
     ]
    }
   ],
   "source": [
    "with app.app_context():\n",
    "    track = db.session.query(Tracks).first()\n",
    "    \n",
    "    print(track.album)\n"
   ]
  },
  {
   "cell_type": "code",
   "execution_count": 6,
   "metadata": {},
   "outputs": [],
   "source": [
    "    album = Albums(\n",
    "        uri=\"uri\",\n",
    "        album_type=\"type?\",\n",
    "        total_tracks=11,\n",
    "        name=\"name\",\n",
    "        release_date=datetime.datetime.now(datetime.timezone.utc),\n",
    "        label=\"label\",\n",
    "        popularity=111,\n",
    "        image_url=\"fdfd\",\n",
    "        created_date=datetime.datetime.now(datetime.timezone.utc),\n",
    "        modified_date=datetime.datetime.now(datetime.timezone.utc),\n",
    "    )\n",
    "    \n",
    "    album.tracks.append(track)\n",
    "    \n",
    "    db.session.add(album)\n",
    "    db.session.commit()"
   ]
  },
  {
   "cell_type": "code",
   "execution_count": 9,
   "metadata": {},
   "outputs": [
    {
     "ename": "DetachedInstanceError",
     "evalue": "Parent instance <Tracks at 0x11c002410> is not bound to a Session; lazy load operation of attribute 'album' cannot proceed (Background on this error at: https://sqlalche.me/e/20/bhk3)",
     "output_type": "error",
     "traceback": [
      "\u001b[0;31m---------------------------------------------------------------------------\u001b[0m",
      "\u001b[0;31mDetachedInstanceError\u001b[0m                     Traceback (most recent call last)",
      "Cell \u001b[0;32mIn[9], line 2\u001b[0m\n\u001b[1;32m      1\u001b[0m \u001b[39mwith\u001b[39;00m app\u001b[39m.\u001b[39mapp_context():\n\u001b[0;32m----> 2\u001b[0m     track\u001b[39m.\u001b[39;49malbum\n",
      "File \u001b[0;32m/usr/local/lib/python3.11/site-packages/sqlalchemy/orm/attributes.py:557\u001b[0m, in \u001b[0;36mInstrumentedAttribute.__get__\u001b[0;34m(self, instance, owner)\u001b[0m\n\u001b[1;32m    555\u001b[0m \u001b[39mexcept\u001b[39;00m \u001b[39mAttributeError\u001b[39;00m \u001b[39mas\u001b[39;00m err:\n\u001b[1;32m    556\u001b[0m     \u001b[39mraise\u001b[39;00m orm_exc\u001b[39m.\u001b[39mUnmappedInstanceError(instance) \u001b[39mfrom\u001b[39;00m \u001b[39merr\u001b[39;00m\n\u001b[0;32m--> 557\u001b[0m \u001b[39mreturn\u001b[39;00m \u001b[39mself\u001b[39;49m\u001b[39m.\u001b[39;49mimpl\u001b[39m.\u001b[39;49mget(state, dict_)\n",
      "File \u001b[0;32m/usr/local/lib/python3.11/site-packages/sqlalchemy/orm/attributes.py:1070\u001b[0m, in \u001b[0;36mAttributeImpl.get\u001b[0;34m(self, state, dict_, passive)\u001b[0m\n\u001b[1;32m   1067\u001b[0m \u001b[39mif\u001b[39;00m \u001b[39mnot\u001b[39;00m passive \u001b[39m&\u001b[39m CALLABLES_OK:\n\u001b[1;32m   1068\u001b[0m     \u001b[39mreturn\u001b[39;00m PASSIVE_NO_RESULT\n\u001b[0;32m-> 1070\u001b[0m value \u001b[39m=\u001b[39m \u001b[39mself\u001b[39;49m\u001b[39m.\u001b[39;49m_fire_loader_callables(state, key, passive)\n\u001b[1;32m   1072\u001b[0m \u001b[39mif\u001b[39;00m value \u001b[39mis\u001b[39;00m PASSIVE_NO_RESULT \u001b[39mor\u001b[39;00m value \u001b[39mis\u001b[39;00m NO_VALUE:\n\u001b[1;32m   1073\u001b[0m     \u001b[39mreturn\u001b[39;00m value\n",
      "File \u001b[0;32m/usr/local/lib/python3.11/site-packages/sqlalchemy/orm/attributes.py:1105\u001b[0m, in \u001b[0;36mAttributeImpl._fire_loader_callables\u001b[0;34m(self, state, key, passive)\u001b[0m\n\u001b[1;32m   1103\u001b[0m     \u001b[39mreturn\u001b[39;00m callable_(state, passive)\n\u001b[1;32m   1104\u001b[0m \u001b[39melif\u001b[39;00m \u001b[39mself\u001b[39m\u001b[39m.\u001b[39mcallable_:\n\u001b[0;32m-> 1105\u001b[0m     \u001b[39mreturn\u001b[39;00m \u001b[39mself\u001b[39;49m\u001b[39m.\u001b[39;49mcallable_(state, passive)\n\u001b[1;32m   1106\u001b[0m \u001b[39melse\u001b[39;00m:\n\u001b[1;32m   1107\u001b[0m     \u001b[39mreturn\u001b[39;00m ATTR_EMPTY\n",
      "File \u001b[0;32m/usr/local/lib/python3.11/site-packages/sqlalchemy/orm/strategies.py:923\u001b[0m, in \u001b[0;36mLazyLoader._load_for_state\u001b[0;34m(self, state, passive, loadopt, extra_criteria, extra_options, alternate_effective_path, execution_options)\u001b[0m\n\u001b[1;32m    920\u001b[0m     \u001b[39mif\u001b[39;00m passive \u001b[39m&\u001b[39m PassiveFlag\u001b[39m.\u001b[39mNO_RAISE:\n\u001b[1;32m    921\u001b[0m         \u001b[39mreturn\u001b[39;00m LoaderCallableStatus\u001b[39m.\u001b[39mPASSIVE_NO_RESULT\n\u001b[0;32m--> 923\u001b[0m     \u001b[39mraise\u001b[39;00m orm_exc\u001b[39m.\u001b[39mDetachedInstanceError(\n\u001b[1;32m    924\u001b[0m         \u001b[39m\"\u001b[39m\u001b[39mParent instance \u001b[39m\u001b[39m%s\u001b[39;00m\u001b[39m is not bound to a Session; \u001b[39m\u001b[39m\"\u001b[39m\n\u001b[1;32m    925\u001b[0m         \u001b[39m\"\u001b[39m\u001b[39mlazy load operation of attribute \u001b[39m\u001b[39m'\u001b[39m\u001b[39m%s\u001b[39;00m\u001b[39m'\u001b[39m\u001b[39m cannot proceed\u001b[39m\u001b[39m\"\u001b[39m\n\u001b[1;32m    926\u001b[0m         \u001b[39m%\u001b[39m (orm_util\u001b[39m.\u001b[39mstate_str(state), \u001b[39mself\u001b[39m\u001b[39m.\u001b[39mkey)\n\u001b[1;32m    927\u001b[0m     )\n\u001b[1;32m    929\u001b[0m \u001b[39m# if we have a simple primary key load, check the\u001b[39;00m\n\u001b[1;32m    930\u001b[0m \u001b[39m# identity map without generating a Query at all\u001b[39;00m\n\u001b[1;32m    931\u001b[0m \u001b[39mif\u001b[39;00m use_get:\n",
      "\u001b[0;31mDetachedInstanceError\u001b[0m: Parent instance <Tracks at 0x11c002410> is not bound to a Session; lazy load operation of attribute 'album' cannot proceed (Background on this error at: https://sqlalche.me/e/20/bhk3)"
     ]
    }
   ],
   "source": [
    "with app.app_context():\n",
    "    track.album"
   ]
  }
 ],
 "metadata": {
  "kernelspec": {
   "display_name": "Python 3",
   "language": "python",
   "name": "python3"
  },
  "language_info": {
   "codemirror_mode": {
    "name": "ipython",
    "version": 3
   },
   "file_extension": ".py",
   "mimetype": "text/x-python",
   "name": "python",
   "nbconvert_exporter": "python",
   "pygments_lexer": "ipython3",
   "version": "3.11.1"
  },
  "orig_nbformat": 4
 },
 "nbformat": 4,
 "nbformat_minor": 2
}
