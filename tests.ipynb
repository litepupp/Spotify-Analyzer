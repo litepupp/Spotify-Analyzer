{
 "cells": [
  {
   "cell_type": "code",
   "execution_count": 1,
   "metadata": {},
   "outputs": [],
   "source": [
    "from src.server import create_app\n",
    "from src.server.extensions import db\n",
    "from src.models.models import Streams, Tracks, Albums, Artists, Genres\n",
    "\n",
    "app = create_app()"
   ]
  },
  {
   "cell_type": "code",
   "execution_count": 5,
   "metadata": {},
   "outputs": [
    {
     "ename": "TypeError",
     "evalue": "'Artists' object is not iterable",
     "output_type": "error",
     "traceback": [
      "\u001b[0;31m---------------------------------------------------------------------------\u001b[0m",
      "\u001b[0;31mTypeError\u001b[0m                                 Traceback (most recent call last)",
      "Cell \u001b[0;32mIn[5], line 4\u001b[0m\n\u001b[1;32m      1\u001b[0m \u001b[39mwith\u001b[39;00m app\u001b[39m.\u001b[39mapp_context():\n\u001b[1;32m      2\u001b[0m     artists \u001b[39m=\u001b[39m db\u001b[39m.\u001b[39msession\u001b[39m.\u001b[39mquery(Artists)\u001b[39m.\u001b[39mfilter(Artists\u001b[39m.\u001b[39mid \u001b[39m==\u001b[39m \u001b[39m32\u001b[39m)\u001b[39m.\u001b[39mfirst()\n\u001b[0;32m----> 4\u001b[0m     \u001b[39mfor\u001b[39;00m artist \u001b[39min\u001b[39;00m artists:\n\u001b[1;32m      5\u001b[0m         \u001b[39mprint\u001b[39m(artist\u001b[39m.\u001b[39mname)\n\u001b[1;32m      6\u001b[0m         \u001b[39mfor\u001b[39;00m track \u001b[39min\u001b[39;00m artist\u001b[39m.\u001b[39mtracks:\n",
      "\u001b[0;31mTypeError\u001b[0m: 'Artists' object is not iterable"
     ]
    }
   ],
   "source": [
    "with app.app_context():\n",
    "    artist = db.session.query(Artists).filter(Artists.id == 32).first()\n",
    "    \n",
    "    print(artist.name)\n",
    "    for track in artist.tracks:\n",
    "        print(f\"   {track.name}\")"
   ]
  }
 ],
 "metadata": {
  "kernelspec": {
   "display_name": "Python 3",
   "language": "python",
   "name": "python3"
  },
  "language_info": {
   "codemirror_mode": {
    "name": "ipython",
    "version": 3
   },
   "file_extension": ".py",
   "mimetype": "text/x-python",
   "name": "python",
   "nbconvert_exporter": "python",
   "pygments_lexer": "ipython3",
   "version": "3.11.1"
  },
  "orig_nbformat": 4
 },
 "nbformat": 4,
 "nbformat_minor": 2
}
