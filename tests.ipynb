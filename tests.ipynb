{
 "cells": [
  {
   "cell_type": "code",
   "execution_count": 2,
   "metadata": {},
   "outputs": [],
   "source": [
    "from src.server import create_app\n",
    "from src.server.extensions import db\n",
    "from src.models.models import Streams, Tracks, Albums, Artists, Genres\n",
    "\n",
    "import pandas as pd\n",
    "import matplotlib.pyplot as plt\n",
    "\n",
    "app = create_app()"
   ]
  },
  {
   "cell_type": "code",
   "execution_count": 3,
   "metadata": {},
   "outputs": [
    {
     "name": "stdout",
     "output_type": "stream",
     "text": [
      "長谷川白紙: 35\n",
      "  Bones of Dreams Attacked!: 6\n",
      "      シー・チェンジ: 5\n",
      "      旅の中で: 1\n",
      "  Somoku Hodo: 17\n",
      "      毒: 6\n",
      "      它会消失: 8\n",
      "      キュー: 1\n",
      "      草木: 2\n",
      "  エアにに: 4\n",
      "      砂漠で: 2\n",
      "      悪魔: 2\n",
      "  Air Ni Ni: 5\n",
      "      山が見える: 1\n",
      "      あなただけ: 1\n",
      "      怖いところ: 2\n",
      "      ニュートラル: 1\n",
      "  夢の骨が襲いかかる!: 1\n",
      "      セントレイ: 1\n",
      "  音がする: 2\n",
      "      音がする: 2\n"
     ]
    }
   ],
   "source": [
    "with app.app_context():\n",
    "    artist = db.session.query(Artists).filter(Artists.id == 181).first()\n",
    "\n",
    "    print(f\"{artist.name}: {len(artist.streams)}\")\n",
    "    for album in artist.albums:\n",
    "        print(f\"  {album.name}: {len(album.streams)}\")\n",
    "        for track in album.tracks:\n",
    "            print(f\"      {track.name}: {len(track.streams)}\")\n"
   ]
  }
 ],
 "metadata": {
  "kernelspec": {
   "display_name": "Python 3",
   "language": "python",
   "name": "python3"
  },
  "language_info": {
   "codemirror_mode": {
    "name": "ipython",
    "version": 3
   },
   "file_extension": ".py",
   "mimetype": "text/x-python",
   "name": "python",
   "nbconvert_exporter": "python",
   "pygments_lexer": "ipython3",
   "version": "3.11.1"
  },
  "orig_nbformat": 4
 },
 "nbformat": 4,
 "nbformat_minor": 2
}
