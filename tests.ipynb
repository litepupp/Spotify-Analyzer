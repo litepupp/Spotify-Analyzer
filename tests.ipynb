{
 "cells": [
  {
   "cell_type": "code",
   "execution_count": 1,
   "metadata": {},
   "outputs": [],
   "source": [
    "from src.server import create_app\n",
    "from src.server.extensions import db\n",
    "from src.models.models import Streams, Tracks, Albums, Artists, Genres\n",
    "\n",
    "import pandas as pd\n",
    "import matplotlib.pyplot as plt\n",
    "\n",
    "app = create_app()"
   ]
  },
  {
   "cell_type": "code",
   "execution_count": 2,
   "metadata": {},
   "outputs": [
    {
     "name": "stdout",
     "output_type": "stream",
     "text": [
      "she: 73\n",
      "  Come See Me: 11\n",
      "      Archetype: 11\n",
      "  Chiptune Memories: 21\n",
      "      Nostalgic Vibes: 5\n",
      "      By Your Side: 5\n",
      "      Chiptune Memories: 3\n",
      "      Into the Blue: 2\n",
      "      8bit Adventures: 2\n",
      "      Glitch Me On: 2\n",
      "      Artificial Love: 2\n",
      "  Abyss: 4\n",
      "      Prismatic: 4\n",
      "  Make Me Real: 5\n",
      "      Make Me Real: 5\n",
      "  Electric Girl: 15\n",
      "      Heartbeats: 2\n",
      "      Headshot: 5\n",
      "      Electric Girl: 3\n",
      "      Yes OK: 3\n",
      "      All I Need Is Music: 1\n",
      "      Closer Together: 1\n",
      "  Chroma: 7\n",
      "      Siliconica: 1\n",
      "      Aperture: 1\n",
      "      Stellaris: 3\n",
      "      Automata: 1\n",
      "      Tune303: 1\n",
      "  Coloris: 2\n",
      "      Coloris: 2\n",
      "  Chiptek: 1\n",
      "      Chiptek: 1\n",
      "  Aspire: 4\n",
      "      I'll Be Around: 3\n",
      "      Aspire: 1\n",
      "  Orion: 3\n",
      "      Atomic: 3\n"
     ]
    }
   ],
   "source": [
    "with app.app_context():\n",
    "    artist = db.session.query(Artists).filter(Artists.id == 43).first()\n",
    "\n",
    "    print(f\"{artist.name}: {len(artist.streams)}\")\n",
    "    for album in artist.albums:\n",
    "        print(f\"  {album.name}: {len(album.streams)}\")\n",
    "        for track in album.tracks:\n",
    "            print(f\"      {track.name}: {len(track.streams)}\")\n"
   ]
  },
  {
   "cell_type": "code",
   "execution_count": 3,
   "metadata": {},
   "outputs": [
    {
     "name": "stdout",
     "output_type": "stream",
     "text": [
      "Meitei - spotify:artist:5TS4DIOBGgEE6ysYh7yuii: 1\n",
      "  Komachi - spotify:album:4IkrCCorQFfEfwoiCt441A: 1\n",
      "      Chōchin - spotify:track:7dQe00xxpzTBeG8AYRr5TW: 1\n"
     ]
    }
   ],
   "source": [
    "with app.app_context():\n",
    "    artist = (\n",
    "        db.session.query(Artists)\n",
    "        .filter(Artists.uri == \"spotify:artist:5TS4DIOBGgEE6ysYh7yuii\")\n",
    "        .first()\n",
    "    )\n",
    "\n",
    "    print(f\"{artist.name} - {artist.uri}: {len(artist.streams)}\")\n",
    "    for album in artist.albums:\n",
    "        print(f\"  {album.name} - {album.uri}: {len(album.streams)}\")\n",
    "        for track in album.tracks:\n",
    "            print(f\"      {track.name} - {track.uri}: {len(track.streams)}\")"
   ]
  }
 ],
 "metadata": {
  "kernelspec": {
   "display_name": "Python 3",
   "language": "python",
   "name": "python3"
  },
  "language_info": {
   "codemirror_mode": {
    "name": "ipython",
    "version": 3
   },
   "file_extension": ".py",
   "mimetype": "text/x-python",
   "name": "python",
   "nbconvert_exporter": "python",
   "pygments_lexer": "ipython3",
   "version": "3.11.1"
  },
  "orig_nbformat": 4
 },
 "nbformat": 4,
 "nbformat_minor": 2
}
