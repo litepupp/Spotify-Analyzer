{
 "cells": [
  {
   "cell_type": "code",
   "execution_count": 1,
   "metadata": {},
   "outputs": [],
   "source": [
    "import datetime\n",
    "\n",
    "from src.server import create_app\n",
    "from src.server.extensions import db\n",
    "from src.models.models import Streams, Tracks, Albums, Artists, Genres\n",
    "\n",
    "import pandas as pd\n",
    "import matplotlib.pyplot as plt\n",
    "\n",
    "app = create_app()\n"
   ]
  },
  {
   "cell_type": "code",
   "execution_count": 22,
   "metadata": {},
   "outputs": [
    {
     "name": "stdout",
     "output_type": "stream",
     "text": [
      "長谷川白紙\n",
      "   砂漠で\n",
      "      砂漠で\n",
      "   Air Ni Ni\n",
      "      あなただけ\n",
      "      砂漠で\n",
      "      山が見える\n",
      "      ニュートラル\n",
      "      怖いところ\n",
      "   悪魔\n",
      "      悪魔\n",
      "   エアにに\n",
      "      蕊のパーティ\n",
      "      風邪山羊\n",
      "      o (__*)\n",
      "      悪魔\n",
      "      いつくしい日々\n",
      "   シー・チェンジ\n",
      "      シー・チェンジ\n",
      "   草木萌動\n",
      "      はみ出す指\n",
      "      妾薄命\n",
      "      草木\n",
      "      毒\n",
      "   Bones of Dreams Attacked!\n",
      "      ホール・ニュー・ワールド\n",
      "      LOVEずっきゅん\n",
      "      旅の中で\n",
      "      Freeway\n",
      "      シー・チェンジ\n",
      "      光のロック\n",
      "      セントレイ\n",
      "   Somoku Hodo\n",
      "      キュー\n",
      "      它会消失\n",
      "   巣食いのて\n",
      "      巣食いのて\n",
      "   音がする\n",
      "      音がする\n",
      "   わたしをみて\n",
      "      わたしをみて\n",
      "   山が見える\n",
      "      山が見える\n",
      "   あなただけ\n",
      "      あなただけ\n"
     ]
    }
   ],
   "source": [
    "with app.app_context():\n",
    "    artist = db.session.query(Artists).filter(Artists.name == \"長谷川白紙\").first()\n",
    "    \n",
    "    print(f\"{artist.name}\")\n",
    "    for album in artist.albums:\n",
    "        print(f\"   {album.name}\")\n",
    "        for album_track in album.tracks:\n",
    "            print(f\"      {album_track.name}\")\n"
   ]
  },
  {
   "cell_type": "code",
   "execution_count": 34,
   "metadata": {},
   "outputs": [
    {
     "name": "stdout",
     "output_type": "stream",
     "text": [
      "{'_query_args': {'select': <flask_sqlalchemy.query.Query object at 0x1231984d0>, 'session': <sqlalchemy.orm.session.Session object at 0x12398d010>}, 'page': 1, 'per_page': 20, 'items': [<Streams 1>, <Streams 2>, <Streams 3>, <Streams 4>, <Streams 5>, <Streams 6>, <Streams 7>, <Streams 8>, <Streams 9>, <Streams 10>, <Streams 11>, <Streams 12>, <Streams 13>, <Streams 14>, <Streams 15>, <Streams 16>, <Streams 17>, <Streams 18>, <Streams 19>, <Streams 20>], 'total': 149844}\n",
      "7493\n"
     ]
    }
   ],
   "source": [
    "with app.app_context():\n",
    "    page = db.paginate(db.session.query(Streams))\n",
    "    \n",
    "print(page.__dict__)"
   ]
  }
 ],
 "metadata": {
  "kernelspec": {
   "display_name": "Python 3",
   "language": "python",
   "name": "python3"
  },
  "language_info": {
   "codemirror_mode": {
    "name": "ipython",
    "version": 3
   },
   "file_extension": ".py",
   "mimetype": "text/x-python",
   "name": "python",
   "nbconvert_exporter": "python",
   "pygments_lexer": "ipython3",
   "version": "3.11.1"
  },
  "orig_nbformat": 4
 },
 "nbformat": 4,
 "nbformat_minor": 2
}
